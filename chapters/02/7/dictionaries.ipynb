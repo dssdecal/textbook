{
 "cells": [
  {
   "cell_type": "markdown",
   "metadata": {},
   "source": [
    "# Dictionaries"
   ]
  },
  {
   "cell_type": "markdown",
   "metadata": {},
   "source": [
    "Did you know that Noah Webster —- the creator of *An American Dictionary of the English Language* -— learned 26 languages, including Anglo-Saxon and Sanskrit, to research the origins of the English language? Talk about dedication! While Python dictionaries don’t require learning dozens of languages, they do have something in common with Webster's work: they’re designed to bring order to complexity. "
   ]
  },
  {
   "cell_type": "markdown",
   "metadata": {},
   "source": [
    "## What are Dictionaries?\n",
    "\n",
    "\n",
    "You can think of Python dictionaries as a data structure meant for storing data in key-value pairs. Each key in a dictionary acts as a **unique** identifier, or label, for its corresponding value. Values, on the other hand, can be of any data type. Dictionaries are characterized by their curly braces {}."
   ]
  },
  {
   "cell_type": "code",
   "execution_count": 85,
   "metadata": {},
   "outputs": [
    {
     "data": {
      "text/plain": [
       "{'name': 'Brandon', 'age': 20}"
      ]
     },
     "execution_count": 85,
     "metadata": {},
     "output_type": "execute_result"
    }
   ],
   "source": [
    "# Creating a dictionary\n",
    "student_info = {\n",
    "    \"name\": \"Brandon\",\n",
    "    \"age\": 20,\n",
    "}\n",
    "\n",
    "student_info"
   ]
  },
  {
   "cell_type": "markdown",
   "metadata": {},
   "source": [
    "We can access a specific value at key by using bracket notation `[]`, or by using the `.get()` method of dictionaries"
   ]
  },
  {
   "cell_type": "code",
   "execution_count": 86,
   "metadata": {},
   "outputs": [
    {
     "name": "stdout",
     "output_type": "stream",
     "text": [
      "Brandon\n",
      "Brandon\n"
     ]
    }
   ],
   "source": [
    "# Accessing a value\n",
    "print(student_info[\"name\"])  # Output: Brandon\n",
    "print(student_info.get(\"name\"))  # Output: Brandon"
   ]
  },
  {
   "cell_type": "markdown",
   "metadata": {},
   "source": [
    "Remember, dictionaries are composed of Key-Value Pairs: Each element in a dictionary has a key and a value. In the example above:\n",
    "\n",
    "Key: `\"name\"`, Value: `\"Brandon\"`\n",
    "\n",
    "Key: `\"age\"`, Value: `20`"
   ]
  },
  {
   "cell_type": "markdown",
   "metadata": {},
   "source": [
    "Made more simply, the key is like a label, and the value is the information it points to.\n",
    "\n",
    "For example:\n",
    "\n",
    "The key `\"name\"` is like a tag that holds the value `\"Brandon\"`.\n",
    "The key `\"age\"` is like a tag that holds the value `20`.\n",
    "\n",
    "This is analagous to a specific word in the English language having a specific *meaning*, or *definition*"
   ]
  },
  {
   "cell_type": "markdown",
   "metadata": {},
   "source": [
    "Let's consider the case where we input the same key twice: "
   ]
  },
  {
   "cell_type": "code",
   "execution_count": 66,
   "metadata": {},
   "outputs": [
    {
     "name": "stdout",
     "output_type": "stream",
     "text": [
      "Lynn\n"
     ]
    }
   ],
   "source": [
    "# Creating a dictionary\n",
    "student_info = {\n",
    "    \"name\": \"Brandon\",\n",
    "    \"name\": \"Lynn\",\n",
    "    \"age\": 20,\n",
    "    \"major\": \"Data Science\"\n",
    "}\n",
    "\n",
    "# Accessing a value\n",
    "print(student_info[\"name\"])  # Output: Lynn"
   ]
  },
  {
   "cell_type": "markdown",
   "metadata": {},
   "source": [
    "Keys must be unique, so if the same key is repeated, Python keeps only the last value. In this case, `\"name\" : \"Lynn\"` replaces `\"name\" : \"Brandon\"`. When you access `student_info[\"name\"]`, it gives `\"Lynn\"` because that’s the final value assigned to `\"name\"`."
   ]
  },
  {
   "cell_type": "markdown",
   "metadata": {},
   "source": [
    "## Adding New Pairs to a Dictionary"
   ]
  },
  {
   "cell_type": "markdown",
   "metadata": {},
   "source": [
    "Let's now make a dictionary using some of the most popular [DATA](https://guide.berkeley.edu/courses/data/) courses at UC Berkeley:"
   ]
  },
  {
   "cell_type": "code",
   "execution_count": 67,
   "metadata": {},
   "outputs": [
    {
     "name": "stdout",
     "output_type": "stream",
     "text": [
      "Course Title for DATA 8: Foundations of Data Science\n"
     ]
    }
   ],
   "source": [
    "# Dictionary mapping course codes to course titles\n",
    "courses = {\n",
    "    \"DATA C8\": \"Foundations of Data Science\",\n",
    "    \"DATA C100\": \"Principles and Techniques of Data Science\",\n",
    "    \"DATA C101\": \"Data Engineering\",\n",
    "    \"DATA C140\": \"Probability for Data Science\"\n",
    "}\n",
    "\n",
    "# Access the title of Data 8\n",
    "print(f\"Course Title for DATA 8: {courses['DATA C8']}\")"
   ]
  },
  {
   "cell_type": "markdown",
   "metadata": {},
   "source": [
    "We notice that the dictionary doesn't yet include all the DATA courses offered by UC Berkeley. Some key courses are missing, such as DATA C88C, DATA C104, DATA C102, and DATA 144. Let’s add these courses to our dictionary one at a time.\n",
    "\n",
    "To do this, we simply provide the key (the course code) and its corresponding value (the course title). For example, here’s how we can add DATA C102, which stands for \"Data, Inference, and Decisions\":"
   ]
  },
  {
   "cell_type": "code",
   "execution_count": 68,
   "metadata": {},
   "outputs": [],
   "source": [
    "courses[\"DATA C102\"] = \"Data, Inference, and Decisions\""
   ]
  },
  {
   "cell_type": "markdown",
   "metadata": {},
   "source": [
    "Repeating this for each course, we will end up with the following dictionary!"
   ]
  },
  {
   "cell_type": "code",
   "execution_count": 69,
   "metadata": {},
   "outputs": [
    {
     "name": "stdout",
     "output_type": "stream",
     "text": [
      "{'DATA C8': 'Foundations of Data Science', 'DATA C100': 'Principles and Techniques of Data Science', 'DATA C101': 'Data Engineering', 'DATA C140': 'Probability for Data Science', 'DATA C102': 'Data, Inference, and Decisions', 'DATA C88C': 'Computational Structures in Data Science', 'DATA C104': 'Human Contexts and Ethics of Data', 'DATA 144': 'Data Mining'}\n"
     ]
    }
   ],
   "source": [
    "# Adding new courses to the dictionary\n",
    "courses[\"DATA C88C\"] = \"Computational Structures in Data Science\"\n",
    "courses[\"DATA C104\"] = \"Human Contexts and Ethics of Data\"\n",
    "courses[\"DATA 144\"] = \"Data Mining\"\n",
    "\n",
    "# Print the updated dictionary\n",
    "print(courses)"
   ]
  },
  {
   "cell_type": "markdown",
   "metadata": {},
   "source": [
    "## `.keys()`"
   ]
  },
  {
   "cell_type": "markdown",
   "metadata": {},
   "source": [
    "Suppose we only wanted to see the course codes, and not exactly the specific course titles. To do this, we can use the `.keys()` method in Python. \n",
    "\n",
    "Essentially, `.keys()` allows you to retrieve all the keys from your dictionary. This is useful when you want to see or iterate through all the keys in your dictionary, without worrying about the associated values."
   ]
  },
  {
   "cell_type": "code",
   "execution_count": 70,
   "metadata": {},
   "outputs": [
    {
     "data": {
      "text/plain": [
       "dict_keys(['DATA C8', 'DATA C100', 'DATA C101', 'DATA C140', 'DATA C102', 'DATA C88C', 'DATA C104', 'DATA 144'])"
      ]
     },
     "execution_count": 70,
     "metadata": {},
     "output_type": "execute_result"
    }
   ],
   "source": [
    "course_keys = courses.keys()\n",
    "course_keys"
   ]
  },
  {
   "cell_type": "markdown",
   "metadata": {},
   "source": [
    "If we wanted to convert this sequence of keys into a list, we can do so using the `list()` function!"
   ]
  },
  {
   "cell_type": "code",
   "execution_count": 71,
   "metadata": {},
   "outputs": [
    {
     "name": "stdout",
     "output_type": "stream",
     "text": [
      "['DATA C8', 'DATA C100', 'DATA C101', 'DATA C140', 'DATA C102', 'DATA C88C', 'DATA C104', 'DATA 144']\n",
      "<class 'list'>\n"
     ]
    }
   ],
   "source": [
    "# Convert to a list\n",
    "key_list = list(course_keys)\n",
    "print(key_list)\n",
    "print(type(key_list))"
   ]
  },
  {
   "cell_type": "markdown",
   "metadata": {},
   "source": [
    "## `.values()`\n",
    "\n",
    "Similarily, if we want to access all the values of a dictionary, we can do so using the `.values()` method!"
   ]
  },
  {
   "cell_type": "code",
   "execution_count": 72,
   "metadata": {},
   "outputs": [
    {
     "data": {
      "text/plain": [
       "dict_values(['Foundations of Data Science', 'Principles and Techniques of Data Science', 'Data Engineering', 'Probability for Data Science', 'Data, Inference, and Decisions', 'Computational Structures in Data Science', 'Human Contexts and Ethics of Data', 'Data Mining'])"
      ]
     },
     "execution_count": 72,
     "metadata": {},
     "output_type": "execute_result"
    }
   ],
   "source": [
    "course_values = courses.values()\n",
    "course_values"
   ]
  },
  {
   "cell_type": "markdown",
   "metadata": {},
   "source": [
    "## `.items()`\n",
    "\n",
    "Suppose we wanted to look at each key-value pair in this dictionary. To do this, we can use the `.items()` method in Python. This will return each pair as a tuple."
   ]
  },
  {
   "cell_type": "code",
   "execution_count": 73,
   "metadata": {},
   "outputs": [
    {
     "data": {
      "text/plain": [
       "dict_items([('DATA C8', 'Foundations of Data Science'), ('DATA C100', 'Principles and Techniques of Data Science'), ('DATA C101', 'Data Engineering'), ('DATA C140', 'Probability for Data Science'), ('DATA C102', 'Data, Inference, and Decisions'), ('DATA C88C', 'Computational Structures in Data Science'), ('DATA C104', 'Human Contexts and Ethics of Data'), ('DATA 144', 'Data Mining')])"
      ]
     },
     "execution_count": 73,
     "metadata": {},
     "output_type": "execute_result"
    }
   ],
   "source": [
    "course_items = courses.items()\n",
    "course_items"
   ]
  },
  {
   "cell_type": "markdown",
   "metadata": {},
   "source": [
    "## Replacing Values in a Dictionary\n",
    "\n",
    "Oops! It seems we made a mistake in the course title for DATA 144. We listed it as \"Data Mining\" when, in reality, it should be \"Data Mining and Analytics.\" No worries—Python dictionaries make it easy to fix errors like this. We can update the value of this specific key by simply reassigning it with the correct value."
   ]
  },
  {
   "cell_type": "code",
   "execution_count": 59,
   "metadata": {},
   "outputs": [
    {
     "name": "stdout",
     "output_type": "stream",
     "text": [
      "The old title: Data Mining\n"
     ]
    }
   ],
   "source": [
    "print(\"The old title: \" + courses[\"DATA 144\"])"
   ]
  },
  {
   "cell_type": "code",
   "execution_count": 88,
   "metadata": {},
   "outputs": [
    {
     "name": "stdout",
     "output_type": "stream",
     "text": [
      "The new title: Data Mining and Analytics\n"
     ]
    }
   ],
   "source": [
    "# Correct the course title for Data 144\n",
    "courses[\"DATA 144\"] = \"Data Mining and Analytics\" #Reassignment\n",
    "\n",
    "print(\"The new title: \" + courses[\"DATA 144\"])"
   ]
  },
  {
   "cell_type": "markdown",
   "metadata": {},
   "source": [
    "## Deleting Values using `del`"
   ]
  },
  {
   "cell_type": "markdown",
   "metadata": {},
   "source": [
    "Following historical trends, DATA 144 is not usually offered in Spring semesters. How could we go about deleting it from our dictionary in this case? Well, we can make use of `del`! "
   ]
  },
  {
   "cell_type": "code",
   "execution_count": 74,
   "metadata": {},
   "outputs": [
    {
     "name": "stdout",
     "output_type": "stream",
     "text": [
      "[('DATA C8', 'Foundations of Data Science'), ('DATA C100', 'Principles and Techniques of Data Science'), ('DATA C101', 'Data Engineering'), ('DATA C140', 'Probability for Data Science'), ('DATA C102', 'Data, Inference, and Decisions'), ('DATA C88C', 'Computational Structures in Data Science'), ('DATA C104', 'Human Contexts and Ethics of Data')]\n"
     ]
    }
   ],
   "source": [
    "del courses[\"DATA 144\"] #Delete the pair of (\"DATA 144\", \"Data Mining and Analytics\")\n",
    "\n",
    "print(list(courses.items()))"
   ]
  },
  {
   "cell_type": "markdown",
   "metadata": {},
   "source": [
    "## Other Values"
   ]
  },
  {
   "cell_type": "markdown",
   "metadata": {},
   "source": [
    "Up to this point, we've only used strings as the data type for dictionary values. However, dictionaries aren't limited to just strings! They can store numbers, lists, and much more. The best part? You can still use all the functions and methods we introduced earlier in this chapter with these different dictionaries. Take a look at the examples below for some inspiration!"
   ]
  },
  {
   "cell_type": "markdown",
   "metadata": {},
   "source": [
    "### Using Integers for Enrollment"
   ]
  },
  {
   "cell_type": "code",
   "execution_count": 99,
   "metadata": {},
   "outputs": [
    {
     "name": "stdout",
     "output_type": "stream",
     "text": [
      "500 students enrolled in DATA C140\n"
     ]
    }
   ],
   "source": [
    "# Dictionary with course codes as keys and enrollment numbers as values\n",
    "course_enrollment = {\n",
    "    \"DATA C8\": 1200,\n",
    "    \"DATA C100\": 800,\n",
    "    \"DATA C101\": 450,\n",
    "    \"DATA C140\": 500,\n",
    "    \"DATA 144\": 300\n",
    "}\n",
    "\n",
    "# Access instructors for Data 100\n",
    "print(str(course_enrollment['DATA C140']) + \" students enrolled in DATA C140\")"
   ]
  },
  {
   "cell_type": "markdown",
   "metadata": {},
   "source": [
    "### Using Lists for Course Instructors"
   ]
  },
  {
   "cell_type": "code",
   "execution_count": 98,
   "metadata": {},
   "outputs": [
    {
     "name": "stdout",
     "output_type": "stream",
     "text": [
      "Instructors for DATA C100: ['Narges Narouzi', 'Joseph E. Gonzalez']\n"
     ]
    }
   ],
   "source": [
    "# Dictionary mapping course codes to a list of instructors\n",
    "instructors = {\n",
    "    \"DATA C8\": [\"John DeNero\", \"Swupnil Sahai\"],\n",
    "    \"DATA C100\": [\"Narges Narouzi\", \"Joseph E. Gonzalez\"],\n",
    "    \"DATA C101\": [\"Lisa Yan\", \"Michael Ball\"],\n",
    "    \"DATA C140\": [\"Ani Adhikari\"]\n",
    "}\n",
    "\n",
    "# Access instructors for Data C100\n",
    "print(f\"Instructors for DATA C100: \" + str(instructors['DATA C100']))"
   ]
  },
  {
   "cell_type": "markdown",
   "metadata": {},
   "source": [
    "### Using Dictionaries for Course Details"
   ]
  },
  {
   "cell_type": "markdown",
   "metadata": {},
   "source": [
    "Yup! You can use dictionaries as values inside a dictionary"
   ]
  },
  {
   "cell_type": "code",
   "execution_count": 100,
   "metadata": {},
   "outputs": [
    {
     "name": "stdout",
     "output_type": "stream",
     "text": [
      "The value for the DATA 144 key: {'title': 'Data Engineering', 'instructors': ['Zachary Pardos'], 'units': 3}\n"
     ]
    }
   ],
   "source": [
    "# Dictionary mapping course codes to detailed course information\n",
    "course_details = {\n",
    "    \"DATA C8\": {\n",
    "        \"title\": \"Foundations of Data Science\",\n",
    "        \"instructors\": [\"John DeNero\", \"Swupnil Sahai\"],\n",
    "        \"units\": 4\n",
    "    },\n",
    "    \"DATA C100\": {\n",
    "        \"title\": \"Principles and Techniques of Data Science\",\n",
    "        \"instructors\": [\"Narges Narouzi\", \"Joseph E. Gonzalez\"],\n",
    "        \"units\": 4\n",
    "    },\n",
    "    \"DATA 144\": {\n",
    "        \"title\": \"Data Engineering\",\n",
    "        \"instructors\": [\"Zachary Pardos\"],\n",
    "        \"units\": 3\n",
    "    }\n",
    "}\n",
    "\n",
    "# Access detailed information for Data 140\n",
    "data_144_info = course_details[\"DATA 144\"]\n",
    "print(\"The value for the DATA 144 key: \" + str(data_144_info))"
   ]
  },
  {
   "cell_type": "markdown",
   "metadata": {},
   "source": [
    "## Python 🤝 Webster"
   ]
  },
  {
   "cell_type": "markdown",
   "metadata": {},
   "source": [
    "Although Python dictionaries differ from traditional ones like Webster’s, they share a similar purpose: organizing information for quick and easy lookup. While a traditional dictionary pairs words with definitions, Python dictionaries pair keys (labels) with values (the associated data). You'll encounter dictionaries again in the Pandas section of this textbook!"
   ]
  }
 ],
 "metadata": {
  "kernelspec": {
   "display_name": "UDUB",
   "language": "python",
   "name": "python3"
  },
  "language_info": {
   "codemirror_mode": {
    "name": "ipython",
    "version": 3
   },
   "file_extension": ".py",
   "mimetype": "text/x-python",
   "name": "python",
   "nbconvert_exporter": "python",
   "pygments_lexer": "ipython3",
   "version": "3.12.2"
  }
 },
 "nbformat": 4,
 "nbformat_minor": 2
}
