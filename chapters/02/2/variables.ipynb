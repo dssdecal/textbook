{
 "cells": [
  {
   "cell_type": "markdown",
   "metadata": {},
   "source": [
    "# Variables\n",
    "Variables are containers for storing data values. They are essential for any computation or manipulation of data. Variables can store different types of data, including numbers, text, and more complex structures.\n",
    "\n",
    "## Variable Naming Rules:\n",
    "* Names can contain letters, digits, and underscores.\n",
    "* They must start with a letter or an underscore, not a digit.\n",
    "* They are case-sensitive (age is different from Age).\n",
    "* Reserved keywords (e.g., for, if, else) cannot be used as variable names, as they inherently have special meanings in Python"
   ]
  },
  {
   "cell_type": "code",
   "execution_count": 2,
   "metadata": {},
   "outputs": [],
   "source": [
    "my_variable = 10  # valid\n",
    "_variable2 = \"Hello\"  # valid"
   ]
  },
  {
   "cell_type": "markdown",
   "metadata": {},
   "source": [
    "`x = 5`:\n",
    "* We are creating a variable called `x` and assigning the value `5` to it. Python now knows that whenever you refer to`x`, you mean the number `5`.\n",
    "* `5` is an integer data type (`int`).\n",
    "\n",
    "`y = \"Python\"`:\n",
    "* Here, we create another variable y and assign it the string \"Python\"\n",
    "* The variable is now set to the text \"Python\"."
   ]
  },
  {
   "cell_type": "code",
   "execution_count": 4,
   "metadata": {},
   "outputs": [
    {
     "ename": "SyntaxError",
     "evalue": "invalid decimal literal (3717920438.py, line 1)",
     "output_type": "error",
     "traceback": [
      "\u001b[0;36m  Cell \u001b[0;32mIn[4], line 1\u001b[0;36m\u001b[0m\n\u001b[0;31m    1variable = 5  # invalid\u001b[0m\n\u001b[0m    ^\u001b[0m\n\u001b[0;31mSyntaxError\u001b[0m\u001b[0;31m:\u001b[0m invalid decimal literal\n"
     ]
    }
   ],
   "source": [
    "1variable = 5  # invalid"
   ]
  },
  {
   "cell_type": "markdown",
   "metadata": {},
   "source": [
    "Remember, variable names cannot start with digits!"
   ]
  },
  {
   "cell_type": "markdown",
   "metadata": {},
   "source": [
    "## Assigning Values:\n",
    "* Assignment is done using the `=` operator.\n",
    "* You can assign multiple variables in one line."
   ]
  },
  {
   "cell_type": "code",
   "execution_count": 6,
   "metadata": {},
   "outputs": [],
   "source": [
    "x = 5\n",
    "y = \"Python\"\n",
    "a, b = 10, \"Data Science\""
   ]
  },
  {
   "cell_type": "markdown",
   "metadata": {},
   "source": [
    "`a, b = 10, \"Data Science\"`:\n",
    "* This is a way to assign multiple variables at once.\n",
    "* `a` is assigned the value `10` (an integer).\n",
    "* `b` is assigned the value \"Data Science\" (a string).\n",
    "* Python uses the comma to separate values and variables, and each value gets assigned to the corresponding variable in order."
   ]
  },
  {
   "cell_type": "markdown",
   "metadata": {},
   "source": [
    "For the last line, `a` would be set to the value of 10, and `b` would be set to the string of \"Data Science\""
   ]
  },
  {
   "cell_type": "code",
   "execution_count": 8,
   "metadata": {},
   "outputs": [
    {
     "name": "stdout",
     "output_type": "stream",
     "text": [
      "10\n",
      "Data Science\n"
     ]
    }
   ],
   "source": [
    "print(a)\n",
    "print(b)"
   ]
  },
  {
   "cell_type": "markdown",
   "metadata": {},
   "source": [
    "## Changing Types:\n",
    "* Python allows reassigning variables to different types on the fly. "
   ]
  },
  {
   "cell_type": "code",
   "execution_count": 9,
   "metadata": {},
   "outputs": [],
   "source": [
    "var = 10       # Integer\n",
    "var = \"hello\"  # String"
   ]
  },
  {
   "cell_type": "markdown",
   "metadata": {},
   "source": [
    "`var = 10`:\n",
    "* We first assign the integer `10` to the variable `var`.\n",
    "* Python associates var with this numeric value.\n",
    "\n",
    "`var = \"hello\"`:\n",
    "* We then reassign `var` to the string `\"hello\"`.\n",
    "* Python now \"forgets\" that var was an integer and treats it as a string. This flexibility is because Python is considered \"dynamically typed\", meaning variables don’t have fixed types. They can change when needed!"
   ]
  }
 ],
 "metadata": {
  "kernelspec": {
   "display_name": "UDUB",
   "language": "python",
   "name": "python3"
  },
  "language_info": {
   "codemirror_mode": {
    "name": "ipython",
    "version": 3
   },
   "file_extension": ".py",
   "mimetype": "text/x-python",
   "name": "python",
   "nbconvert_exporter": "python",
   "pygments_lexer": "ipython3",
   "version": "3.12.2"
  }
 },
 "nbformat": 4,
 "nbformat_minor": 2
}
