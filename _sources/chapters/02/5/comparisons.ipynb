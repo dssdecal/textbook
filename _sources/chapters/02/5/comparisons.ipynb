{
 "cells": [
  {
   "cell_type": "markdown",
   "metadata": {},
   "source": [
    "# Section: Comparison Operators in Python\n",
    "\n",
    "In any programming language, including Python, comparison operators are crucial for making decisions and evaluating conditions. They allow you to compare two values and determine the relationship between them, such as whether one is greater than, less than, or equal to the other. The result of a comparison is always a boolean value: either `True` or `False`. This makes comparison operators particularly useful in control flow statements like `if`, `while`, and `for` loops, where decisions are made based on specific conditions."
   ]
  },
  {
   "cell_type": "markdown",
   "metadata": {},
   "source": [
    "## What are Comparison Operators?\n",
    "Comparison operators, also known as relational operators, are symbols or keywords that allow you to compare two values. These comparisons can involve numbers, strings, or other comparable data types, and they return a True or False result depending on whether the comparison holds.\n"
   ]
  },
  {
   "cell_type": "code",
   "execution_count": 2,
   "metadata": {},
   "outputs": [
    {
     "data": {
      "text/plain": [
       "True"
      ]
     },
     "execution_count": 2,
     "metadata": {},
     "output_type": "execute_result"
    }
   ],
   "source": [
    "5 > 3  # Evaluates to True because 5 is greater than 3"
   ]
  },
  {
   "cell_type": "code",
   "execution_count": 3,
   "metadata": {},
   "outputs": [
    {
     "data": {
      "text/plain": [
       "False"
      ]
     },
     "execution_count": 3,
     "metadata": {},
     "output_type": "execute_result"
    }
   ],
   "source": [
    "5 < 3  # Evaluates to False because 5 is not less than 3"
   ]
  },
  {
   "cell_type": "markdown",
   "metadata": {},
   "source": [
    "## Python Comparison Operators\n",
    "\n",
    "Comparison operators are used to compare two values. The result of these comparisons is always a boolean (`True` or `False`). These operators are crucial in decision-making statements like `if` and `while`, helping to control the flow of your program.\n",
    "\n",
    "| Operator | Description                         | True Example                | Result | False Example              | Result |\n",
    "|----------|-------------------------------------|-----------------------------|--------|----------------------------|--------|\n",
    "| `==`     | Equal to                            | `5 == 5`                    | `True` | `5 == 3`                   | `False`|\n",
    "| `!=`     | Not equal to                        | `5 != 3`                    | `True` | `5 != 5`                   | `False`|\n",
    "| `>`      | Greater than                        | `7 > 3`                     | `True` | `3 > 7`                    | `False`|\n",
    "| `<`      | Less than                           | `3 < 7`                     | `True` | `7 < 3`                    | `False`|\n",
    "| `>=`     | Greater than or equal to            | `5 >= 5`                    | `True` | `3 >= 5`                   | `False`|\n",
    "| `<=`     | Less than or equal to               | `3 <= 5`                    | `True` | `7 <= 5`                   | `False`|"
   ]
  },
  {
   "cell_type": "markdown",
   "metadata": {},
   "source": [
    "## Multiple comparison operators"
   ]
  },
  {
   "cell_type": "markdown",
   "metadata": {},
   "source": [
    "In Python, you can chain multiple comparison operators together to create more complex conditions in a single line. Python evaluates the conditions from left to right, and the final result is `True` only if all conditions in the chain are `True`."
   ]
  },
  {
   "cell_type": "code",
   "execution_count": 4,
   "metadata": {},
   "outputs": [
    {
     "name": "stdout",
     "output_type": "stream",
     "text": [
      "True\n"
     ]
    }
   ],
   "source": [
    "x = 10\n",
    "print(5 < x < 15)  # True, because x (10) is greater than 5 and less than 15"
   ]
  },
  {
   "cell_type": "markdown",
   "metadata": {},
   "source": [
    "In the above example, the expression `5 < x < 15` is equivalent to checking:"
   ]
  },
  {
   "cell_type": "code",
   "execution_count": 5,
   "metadata": {},
   "outputs": [
    {
     "data": {
      "text/plain": [
       "True"
      ]
     },
     "execution_count": 5,
     "metadata": {},
     "output_type": "execute_result"
    }
   ],
   "source": [
    "5 < x and x < 15"
   ]
  },
  {
   "cell_type": "markdown",
   "metadata": {},
   "source": [
    "Both conditions (`5 < x and x < 15`) must be `True` for the entire expression to evaluate as True."
   ]
  },
  {
   "cell_type": "markdown",
   "metadata": {},
   "source": [
    "You can also chain other comparison operators:"
   ]
  },
  {
   "cell_type": "code",
   "execution_count": 6,
   "metadata": {},
   "outputs": [
    {
     "name": "stdout",
     "output_type": "stream",
     "text": [
      "True\n"
     ]
    }
   ],
   "source": [
    "y = 8\n",
    "print(3 < y <= 8)  # True, because y is greater than 3 and less than or equal to 8"
   ]
  },
  {
   "cell_type": "markdown",
   "metadata": {},
   "source": [
    "## String Comparisons\n",
    "\n",
    "Python allows you to use comparison operators to compare strings as well. These comparisons are done lexicographically, which means Python compares strings character by character using the Unicode (ASCII) values of each character.\n",
    "\n",
    "### String Comparison Rules:\n",
    "\n",
    "* Alphabetical Order: Characters are compared based on their position in the alphabet. Uppercase letters come before lowercase letters in the Unicode ordering, so \"A\" is considered less than \"a\".\n",
    "\n",
    "* Length: If the strings are of different lengths but are otherwise the same, the shorter string is considered smaller."
   ]
  },
  {
   "cell_type": "code",
   "execution_count": 8,
   "metadata": {},
   "outputs": [
    {
     "name": "stdout",
     "output_type": "stream",
     "text": [
      "True\n",
      "False\n",
      "True\n"
     ]
    }
   ],
   "source": [
    "print(\"apple\" < \"banana\")  # True, because \"apple\" comes before \"banana\" alphabetically\n",
    "print(\"apple\" == \"Apple\")  # False, because Python is case-sensitive\n",
    "print(\"cat\" > \"bat\")  # True, because \"c\" comes after \"b\" alphabetically"
   ]
  },
  {
   "cell_type": "markdown",
   "metadata": {},
   "source": [
    "In these examples, Python is comparing the Unicode values of each character in the strings:"
   ]
  },
  {
   "cell_type": "markdown",
   "metadata": {},
   "source": [
    "In these examples, Python is comparing the Unicode values of each character in the strings:\n",
    "\n",
    "* `\"apple\"` < `\"banana\"`: Since `\"a\"` comes before `\"b\"` alphabetically, the expression evaluates to `True`.\n",
    "\n",
    "* `\"apple\" == \"Apple\"`: This returns `False` because Python is case-sensitive, and uppercase `\"A\"` has a lower Unicode value than lowercase `\"a\"`.\n",
    "\n",
    "* `\"cat\" > \"bat\"`: This returns `True` because the first letter `\"c\"` is greater than `\"b\"` in lexicographical order."
   ]
  },
  {
   "cell_type": "markdown",
   "metadata": {},
   "source": [
    "### Example: Comparing Strings of Different Lengths"
   ]
  },
  {
   "cell_type": "code",
   "execution_count": 10,
   "metadata": {},
   "outputs": [
    {
     "name": "stdout",
     "output_type": "stream",
     "text": [
      "True\n"
     ]
    }
   ],
   "source": [
    "print(\"abc\" < \"abcd\")  # True, because \"abc\" is shorter and identical to the first part of \"abcd\""
   ]
  },
  {
   "cell_type": "markdown",
   "metadata": {},
   "source": [
    "In this case, Python compares the strings character by character. Once the characters in \"abc\" match all the characters in the same positions in \"abcd\", Python considers the shorter string to be \"less than\" the longer one."
   ]
  }
 ],
 "metadata": {
  "kernelspec": {
   "display_name": "UDUB",
   "language": "python",
   "name": "python3"
  },
  "language_info": {
   "codemirror_mode": {
    "name": "ipython",
    "version": 3
   },
   "file_extension": ".py",
   "mimetype": "text/x-python",
   "name": "python",
   "nbconvert_exporter": "python",
   "pygments_lexer": "ipython3",
   "version": "3.12.2"
  }
 },
 "nbformat": 4,
 "nbformat_minor": 2
}
