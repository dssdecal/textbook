{
 "cells": [
  {
   "cell_type": "markdown",
   "metadata": {},
   "source": [
    "# Data Types"
   ]
  },
  {
   "cell_type": "markdown",
   "metadata": {},
   "source": [
    "Float (`float`):\n",
    "\n",
    "Represents real numbers with decimal points. Floats are used when dealing with continuous values, such as measurements or fractional numbers."
   ]
  },
  {
   "cell_type": "code",
   "execution_count": 4,
   "metadata": {},
   "outputs": [
    {
     "data": {
      "text/plain": [
       "5.0"
      ]
     },
     "execution_count": 4,
     "metadata": {},
     "output_type": "execute_result"
    }
   ],
   "source": [
    "2.0 + 3.0"
   ]
  },
  {
   "cell_type": "code",
   "execution_count": 5,
   "metadata": {},
   "outputs": [
    {
     "data": {
      "text/plain": [
       "float"
      ]
     },
     "execution_count": 5,
     "metadata": {},
     "output_type": "execute_result"
    }
   ],
   "source": [
    "one_half = 1/2\n",
    "type(one_half)"
   ]
  },
  {
   "cell_type": "markdown",
   "metadata": {},
   "source": [
    "String (`str`):\n",
    "\n",
    "Represents sequences of characters, enclosed in single, double, or triple quotes. Strings are commonly used for text manipulation."
   ]
  },
  {
   "cell_type": "code",
   "execution_count": 6,
   "metadata": {},
   "outputs": [],
   "source": [
    "greeting = \"Hello, World!\""
   ]
  },
  {
   "cell_type": "markdown",
   "metadata": {},
   "source": [
    "Boolean (`bool`):\n",
    "\n",
    "Represents truth values: True or False. Booleans are essential for conditional logic (e.g., decision-making in code)."
   ]
  },
  {
   "cell_type": "code",
   "execution_count": 7,
   "metadata": {},
   "outputs": [],
   "source": [
    "is_active = True"
   ]
  },
  {
   "cell_type": "code",
   "execution_count": 8,
   "metadata": {},
   "outputs": [],
   "source": [
    "a = 10        # integer\n",
    "b = 3.14      # float\n",
    "c = a + b     # adding an integer and a float"
   ]
  },
  {
   "cell_type": "markdown",
   "metadata": {},
   "source": [
    "`a = 10`:\n",
    "* We assign the integer `10` to the variable a.\n",
    "* In Python, integers can be positive or negative whole numbers.\n",
    "\n",
    "`b = 3.14`:\n",
    "* We assign the float `3.14` to the variable b.\n",
    "* A float is a number with a decimal point.\n",
    "\n",
    "`c = a + b`:\n",
    "* We add a (which is `10`) and b (which is `3.14`).\n",
    "* Python automatically converts the integer a to a float during the addition.\n",
    "\n",
    "So, `c` will be `13.14`, and `c` becomes a float."
   ]
  },
  {
   "cell_type": "markdown",
   "metadata": {},
   "source": [
    "### String Manipulation\n",
    "\n",
    "Strings are a sequence of characters that represent text data, and they can be manipulated in various ways."
   ]
  },
  {
   "cell_type": "code",
   "execution_count": 9,
   "metadata": {},
   "outputs": [],
   "source": [
    "greeting = \"Hello, \" + \"World!\"\n",
    "name = \"Sid\""
   ]
  },
  {
   "cell_type": "markdown",
   "metadata": {},
   "source": [
    "`greeting = \"Hello, \" + \"World!\"`:\n",
    "* We are using concatenation here, which means we are joining two strings together.\n",
    "* The + operator for strings appends one string to another. So greeting becomes `\"Hello, World!\"`."
   ]
  },
  {
   "cell_type": "markdown",
   "metadata": {},
   "source": [
    "### Adding Booleans"
   ]
  },
  {
   "cell_type": "markdown",
   "metadata": {},
   "source": [
    "In Python, `True` and `False` are actually treated as `1` and `0`, respectively, when you use them in arithmetic expressions. This means you can add, subtract, and even multiply booleans as if they were numbers."
   ]
  },
  {
   "cell_type": "code",
   "execution_count": 10,
   "metadata": {},
   "outputs": [],
   "source": [
    "a = True   # equivalent to 1\n",
    "b = False  # equivalent to 0\n",
    "\n",
    "result = a + b  # this will be 1 (True + False = 1 + 0 = 1)"
   ]
  },
  {
   "cell_type": "markdown",
   "metadata": {},
   "source": [
    "* `True` behaves like the integer `1`, and `False` behaves like `0`.\n",
    "\n",
    "* When you add `True + True`, it’s like adding `1 + 1`, so the result will be `2`.\n",
    "\n",
    "* When you add `True + False`, it’s like adding `1 + 0`, so the result will be `1`."
   ]
  }
 ],
 "metadata": {
  "kernelspec": {
   "display_name": "UDUB",
   "language": "python",
   "name": "python3"
  },
  "language_info": {
   "codemirror_mode": {
    "name": "ipython",
    "version": 3
   },
   "file_extension": ".py",
   "mimetype": "text/x-python",
   "name": "python",
   "nbconvert_exporter": "python",
   "pygments_lexer": "ipython3",
   "version": "3.12.2"
  }
 },
 "nbformat": 4,
 "nbformat_minor": 2
}
